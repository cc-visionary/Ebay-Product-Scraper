{
 "cells": [
  {
   "cell_type": "code",
   "execution_count": 1,
   "metadata": {},
   "outputs": [],
   "source": [
    "# importing all the required libraries\n",
    "from selenium import webdriver\n",
    "from selenium.webdriver.common.by import By\n",
    "from selenium.webdriver.chrome.options import Options\n",
    "from selenium.webdriver.support.ui import WebDriverWait\n",
    "from selenium.webdriver.support.ui import Select\n",
    "\n",
    "import os\n",
    "import pandas as pd\n",
    "import xlsxwriter\n",
    "import time\n",
    "import re"
   ]
  },
  {
   "cell_type": "code",
   "execution_count": 2,
   "metadata": {},
   "outputs": [],
   "source": [
    "# webdriver options\n",
    "chromeOptions = Options()\n",
    "chromeOptions.add_argument('--kiosk') # sets the headless browser into full screen mode\n",
    "chromeOptions.add_argument('blink-settings=imagesEnabled=false') # set loading images to be false (for faster loading)\n",
    "\n",
    "base_url = 'https://www.ebay.co.uk/'\n",
    "tag = 'itm/' # % is the item id"
   ]
  },
  {
   "cell_type": "code",
   "execution_count": 3,
   "metadata": {},
   "outputs": [],
   "source": [
    "os.chdir(\"./input\")\n",
    "filename = 'data.xlsx'\n",
    "ids = []"
   ]
  },
  {
   "cell_type": "markdown",
   "metadata": {},
   "source": [
    "# Datas\n",
    "- Current Price ( Current price of the item, \\$x,xx)\n",
    "- the title of the listing ( which is : \"Kaytee Clean and Cozy Super Absorbent Paper Bedding, 24.6 Litre, White\" for the example)  \n",
    "Then using the title, firstly remove all symbols( , . < > # ! @ \\$ &# ) and replace it with a space\n",
    "scrape the search result using the reformated title \"Kaytee Clean and Cozy Super Absorbent Paper Bedding 24 6 Litre White\" for:  \n",
    "- If the listing is ***First Position: sort by Best Match ( result: yes/no)\n",
    "- the current Price of second best match position( \\$x.xx)\n",
    "- if the listing is ***First Position for: sort by \"Lowest price + P&P (Yes/no)\n",
    "- Seller ID that is first position for:sort by \"Lowest price + P&P : the cheapest ( result => seller ID)\n",
    "- The Price set by the seller ID in data 6 ( \\$x.xx)"
   ]
  },
  {
   "cell_type": "code",
   "execution_count": 5,
   "metadata": {},
   "outputs": [
    {
     "name": "stdout",
     "output_type": "stream",
     "text": [
      "[352884175692, 352889890188, 352891526902, 352891590647, 352892852444, 352898683627, 172303319739, 173092913247, 173184905759, 172174023119, 172491548173, 172579131475, 172755349601, 172955742673, 173185039605, 174097498283, 172124597304, 164020357191, 312923860375, 312933441334, 312923860455, 174136374456, 174137078472, 174129744035, 174136326751, 174129744023, 174129743994, 174136384183, 174149022005, 174149024875, 174150039165, 113902149752, 113919237452, 113889751891, 113752098245, 113899624628, 113959914701, 113725028570, 113898764744, 312808000768, 312810894259, 312829358762, 312850610708, 312789935895, 312820061740, 312782858041, 312821333318, 312935068125, 312938971370, 383348047338, 383355402760, 383209205979, 383262809272, 383272647855, 383312513295, 383147358609, 383209098979, 383198445638, 352914923728, 352907171466, 352904921783, 352918836423, 352909539791, 352914960583, 352910796491, 352916336904, 352918850575, 352907396557, 254458122967, 264491011023, 254449787154, 254379329278, 254476493779, 254380072363, 254380768054, 254381813506, 264593543317, 254427792417, 192198999038, 202193303135, 192537136586, 192555125197, 184002855406, 174074161649, 184028334371, 173890224187, 174088094191, 184078846558, 174077607543, 174083473775, 383183731094, 383349239625, 383008923292, 383349227508, 383211246588, 383347429914, 382632811397, 383122359126, 383211222065, 283659821499, 283626645213, 283626661079, 283629217961, 283643879799, 283658721650, 283661953946, 283664343416, 383306399655, 383125542495, 383252643774, 383264491295, 383382031814, 383125550173, 383134362356, 383137225320, 383201231407, 383257057172, 401926969763, 401833612414, 401981429989, 401857621166, 401824532316, 401878995679, 401864789379, 401922987080, 401965349420, 401966649311, 401973811727, 402014533953, 402021411671, 401966589638, 402013250012, 401962750770, 401980176088, 401888478919, 293276938321, 293280242403, 293270100849, 293289645028, 293294790469, 293297560059, 293324704129, 292754948225, 293357687352, 292754506725, 324039934076, 324048032762, 324027643118, 324028035480, 324027631026, 324032380026, 324042690633, 164025140861, 164022286892, 164020571769, 164028725948, 164030117765, 164023298670, 164030087761, 164019202598, 164019547597, 164028796574, 293405468152, 293340939117, 293422925680, 293145901748, 293367629811, 293422959502, 293262538655, 293358403499, 174083316670, 174066983159, 174072005458, 174066984871, 174066991325, 174093009554, 174097112370, 174087204597, 174095008018, 174098864459, 383343868468, 383338743220, 383340300387, 383336626109, 383340319266, 383341752258, 383340367619, 383340966687, 383341197183, 383343856561, 372909376360, 372880742292, 372843872696, 372847669828, 372833469724, 372843922328, 372862029945, 372900628524, 372847654829, 372886826135]\n"
     ]
    }
   ],
   "source": [
    "df = pd.read_excel(filename)\n",
    "for i in df.iloc:\n",
    "    ids.append(i['IDS'])\n",
    "print(ids)"
   ]
  },
  {
   "cell_type": "code",
   "execution_count": 26,
   "metadata": {},
   "outputs": [],
   "source": [
    "# os.chdir(\"..\")\n",
    "driver = webdriver.Chrome('./chromedriver/chromedriver', options=chromeOptions) # opens the headless browser"
   ]
  },
  {
   "cell_type": "code",
   "execution_count": 28,
   "metadata": {},
   "outputs": [],
   "source": [
    "driver.get('https://www.ebay.co.uk/sch/i.html?_from=R40&_nkw=Automotive+Cable+Wire+Tracker+Short+Open+Finder+Tester+Car+Repair+Tool&_sacat=0&_stpos=OL9+8JR&_fcid=3&rt=nc&LH_BIN=1')"
   ]
  },
  {
   "cell_type": "code",
   "execution_count": 35,
   "metadata": {},
   "outputs": [
    {
     "name": "stdout",
     "output_type": "stream",
     "text": [
      "s0-13-11-5-1[0]-73[0]-14-content\n",
      "s0-13-11-5-1[0]-75[1]-14-content\n",
      "s0-13-11-5-1[0]-75[2]-14-content\n",
      "s0-13-11-5-1[0]-42-0-content\n",
      "s0-13-11-5-1[0]-60-1-content\n"
     ]
    },
    {
     "ename": "NoSuchElementException",
     "evalue": "Message: no such element: Unable to locate element: {\"method\":\"css selector\",\"selector\":\"[id=\"e1-13\"]\"}\n  (Session info: chrome=81.0.4044.129)\n",
     "output_type": "error",
     "traceback": [
      "\u001b[1;31m---------------------------------------------------------------------------\u001b[0m",
      "\u001b[1;31mNoSuchElementException\u001b[0m                    Traceback (most recent call last)",
      "\u001b[1;32m<ipython-input-35-8878d5eab90b>\u001b[0m in \u001b[0;36m<module>\u001b[1;34m\u001b[0m\n\u001b[0;32m      4\u001b[0m         \u001b[0mbuttons\u001b[0m\u001b[1;33m.\u001b[0m\u001b[0mclick\u001b[0m\u001b[1;33m(\u001b[0m\u001b[1;33m)\u001b[0m\u001b[1;33m\u001b[0m\u001b[1;33m\u001b[0m\u001b[0m\n\u001b[0;32m      5\u001b[0m         \u001b[0mdriver\u001b[0m\u001b[1;33m.\u001b[0m\u001b[0mfind_element_by_class_name\u001b[0m\u001b[1;33m(\u001b[0m\u001b[1;34m'srp-view-options__customize'\u001b[0m\u001b[1;33m)\u001b[0m\u001b[1;33m.\u001b[0m\u001b[0mclick\u001b[0m\u001b[1;33m(\u001b[0m\u001b[1;33m)\u001b[0m\u001b[1;33m\u001b[0m\u001b[1;33m\u001b[0m\u001b[0m\n\u001b[1;32m----> 6\u001b[1;33m         \u001b[0mdriver\u001b[0m\u001b[1;33m.\u001b[0m\u001b[0mfind_element_by_id\u001b[0m\u001b[1;33m(\u001b[0m\u001b[1;34m'e1-13'\u001b[0m\u001b[1;33m)\u001b[0m\u001b[1;33m.\u001b[0m\u001b[0mclick\u001b[0m\u001b[1;33m(\u001b[0m\u001b[1;33m)\u001b[0m\u001b[1;33m\u001b[0m\u001b[1;33m\u001b[0m\u001b[0m\n\u001b[0m\u001b[0;32m      7\u001b[0m         \u001b[0mdriver\u001b[0m\u001b[1;33m.\u001b[0m\u001b[0mfind_element_by_id\u001b[0m\u001b[1;33m(\u001b[0m\u001b[1;34m'e1-3'\u001b[0m\u001b[1;33m)\u001b[0m\u001b[1;33m.\u001b[0m\u001b[0mclick\u001b[0m\u001b[1;33m(\u001b[0m\u001b[1;33m)\u001b[0m\u001b[1;33m\u001b[0m\u001b[1;33m\u001b[0m\u001b[0m\n\u001b[0;32m      8\u001b[0m         \u001b[0mtime\u001b[0m\u001b[1;33m.\u001b[0m\u001b[0msleep\u001b[0m\u001b[1;33m(\u001b[0m\u001b[1;36m2\u001b[0m\u001b[1;33m)\u001b[0m\u001b[1;33m\u001b[0m\u001b[1;33m\u001b[0m\u001b[0m\n",
      "\u001b[1;32mc:\\users\\chris\\appdata\\local\\programs\\python\\python38-32\\lib\\site-packages\\selenium\\webdriver\\remote\\webdriver.py\u001b[0m in \u001b[0;36mfind_element_by_id\u001b[1;34m(self, id_)\u001b[0m\n\u001b[0;32m    358\u001b[0m             \u001b[0melement\u001b[0m \u001b[1;33m=\u001b[0m \u001b[0mdriver\u001b[0m\u001b[1;33m.\u001b[0m\u001b[0mfind_element_by_id\u001b[0m\u001b[1;33m(\u001b[0m\u001b[1;34m'foo'\u001b[0m\u001b[1;33m)\u001b[0m\u001b[1;33m\u001b[0m\u001b[1;33m\u001b[0m\u001b[0m\n\u001b[0;32m    359\u001b[0m         \"\"\"\n\u001b[1;32m--> 360\u001b[1;33m         \u001b[1;32mreturn\u001b[0m \u001b[0mself\u001b[0m\u001b[1;33m.\u001b[0m\u001b[0mfind_element\u001b[0m\u001b[1;33m(\u001b[0m\u001b[0mby\u001b[0m\u001b[1;33m=\u001b[0m\u001b[0mBy\u001b[0m\u001b[1;33m.\u001b[0m\u001b[0mID\u001b[0m\u001b[1;33m,\u001b[0m \u001b[0mvalue\u001b[0m\u001b[1;33m=\u001b[0m\u001b[0mid_\u001b[0m\u001b[1;33m)\u001b[0m\u001b[1;33m\u001b[0m\u001b[1;33m\u001b[0m\u001b[0m\n\u001b[0m\u001b[0;32m    361\u001b[0m \u001b[1;33m\u001b[0m\u001b[0m\n\u001b[0;32m    362\u001b[0m     \u001b[1;32mdef\u001b[0m \u001b[0mfind_elements_by_id\u001b[0m\u001b[1;33m(\u001b[0m\u001b[0mself\u001b[0m\u001b[1;33m,\u001b[0m \u001b[0mid_\u001b[0m\u001b[1;33m)\u001b[0m\u001b[1;33m:\u001b[0m\u001b[1;33m\u001b[0m\u001b[1;33m\u001b[0m\u001b[0m\n",
      "\u001b[1;32mc:\\users\\chris\\appdata\\local\\programs\\python\\python38-32\\lib\\site-packages\\selenium\\webdriver\\remote\\webdriver.py\u001b[0m in \u001b[0;36mfind_element\u001b[1;34m(self, by, value)\u001b[0m\n\u001b[0;32m    974\u001b[0m                 \u001b[0mby\u001b[0m \u001b[1;33m=\u001b[0m \u001b[0mBy\u001b[0m\u001b[1;33m.\u001b[0m\u001b[0mCSS_SELECTOR\u001b[0m\u001b[1;33m\u001b[0m\u001b[1;33m\u001b[0m\u001b[0m\n\u001b[0;32m    975\u001b[0m                 \u001b[0mvalue\u001b[0m \u001b[1;33m=\u001b[0m \u001b[1;34m'[name=\"%s\"]'\u001b[0m \u001b[1;33m%\u001b[0m \u001b[0mvalue\u001b[0m\u001b[1;33m\u001b[0m\u001b[1;33m\u001b[0m\u001b[0m\n\u001b[1;32m--> 976\u001b[1;33m         return self.execute(Command.FIND_ELEMENT, {\n\u001b[0m\u001b[0;32m    977\u001b[0m             \u001b[1;34m'using'\u001b[0m\u001b[1;33m:\u001b[0m \u001b[0mby\u001b[0m\u001b[1;33m,\u001b[0m\u001b[1;33m\u001b[0m\u001b[1;33m\u001b[0m\u001b[0m\n\u001b[0;32m    978\u001b[0m             'value': value})['value']\n",
      "\u001b[1;32mc:\\users\\chris\\appdata\\local\\programs\\python\\python38-32\\lib\\site-packages\\selenium\\webdriver\\remote\\webdriver.py\u001b[0m in \u001b[0;36mexecute\u001b[1;34m(self, driver_command, params)\u001b[0m\n\u001b[0;32m    319\u001b[0m         \u001b[0mresponse\u001b[0m \u001b[1;33m=\u001b[0m \u001b[0mself\u001b[0m\u001b[1;33m.\u001b[0m\u001b[0mcommand_executor\u001b[0m\u001b[1;33m.\u001b[0m\u001b[0mexecute\u001b[0m\u001b[1;33m(\u001b[0m\u001b[0mdriver_command\u001b[0m\u001b[1;33m,\u001b[0m \u001b[0mparams\u001b[0m\u001b[1;33m)\u001b[0m\u001b[1;33m\u001b[0m\u001b[1;33m\u001b[0m\u001b[0m\n\u001b[0;32m    320\u001b[0m         \u001b[1;32mif\u001b[0m \u001b[0mresponse\u001b[0m\u001b[1;33m:\u001b[0m\u001b[1;33m\u001b[0m\u001b[1;33m\u001b[0m\u001b[0m\n\u001b[1;32m--> 321\u001b[1;33m             \u001b[0mself\u001b[0m\u001b[1;33m.\u001b[0m\u001b[0merror_handler\u001b[0m\u001b[1;33m.\u001b[0m\u001b[0mcheck_response\u001b[0m\u001b[1;33m(\u001b[0m\u001b[0mresponse\u001b[0m\u001b[1;33m)\u001b[0m\u001b[1;33m\u001b[0m\u001b[1;33m\u001b[0m\u001b[0m\n\u001b[0m\u001b[0;32m    322\u001b[0m             response['value'] = self._unwrap_value(\n\u001b[0;32m    323\u001b[0m                 response.get('value', None))\n",
      "\u001b[1;32mc:\\users\\chris\\appdata\\local\\programs\\python\\python38-32\\lib\\site-packages\\selenium\\webdriver\\remote\\errorhandler.py\u001b[0m in \u001b[0;36mcheck_response\u001b[1;34m(self, response)\u001b[0m\n\u001b[0;32m    240\u001b[0m                 \u001b[0malert_text\u001b[0m \u001b[1;33m=\u001b[0m \u001b[0mvalue\u001b[0m\u001b[1;33m[\u001b[0m\u001b[1;34m'alert'\u001b[0m\u001b[1;33m]\u001b[0m\u001b[1;33m.\u001b[0m\u001b[0mget\u001b[0m\u001b[1;33m(\u001b[0m\u001b[1;34m'text'\u001b[0m\u001b[1;33m)\u001b[0m\u001b[1;33m\u001b[0m\u001b[1;33m\u001b[0m\u001b[0m\n\u001b[0;32m    241\u001b[0m             \u001b[1;32mraise\u001b[0m \u001b[0mexception_class\u001b[0m\u001b[1;33m(\u001b[0m\u001b[0mmessage\u001b[0m\u001b[1;33m,\u001b[0m \u001b[0mscreen\u001b[0m\u001b[1;33m,\u001b[0m \u001b[0mstacktrace\u001b[0m\u001b[1;33m,\u001b[0m \u001b[0malert_text\u001b[0m\u001b[1;33m)\u001b[0m\u001b[1;33m\u001b[0m\u001b[1;33m\u001b[0m\u001b[0m\n\u001b[1;32m--> 242\u001b[1;33m         \u001b[1;32mraise\u001b[0m \u001b[0mexception_class\u001b[0m\u001b[1;33m(\u001b[0m\u001b[0mmessage\u001b[0m\u001b[1;33m,\u001b[0m \u001b[0mscreen\u001b[0m\u001b[1;33m,\u001b[0m \u001b[0mstacktrace\u001b[0m\u001b[1;33m)\u001b[0m\u001b[1;33m\u001b[0m\u001b[1;33m\u001b[0m\u001b[0m\n\u001b[0m\u001b[0;32m    243\u001b[0m \u001b[1;33m\u001b[0m\u001b[0m\n\u001b[0;32m    244\u001b[0m     \u001b[1;32mdef\u001b[0m \u001b[0m_value_or_default\u001b[0m\u001b[1;33m(\u001b[0m\u001b[0mself\u001b[0m\u001b[1;33m,\u001b[0m \u001b[0mobj\u001b[0m\u001b[1;33m,\u001b[0m \u001b[0mkey\u001b[0m\u001b[1;33m,\u001b[0m \u001b[0mdefault\u001b[0m\u001b[1;33m)\u001b[0m\u001b[1;33m:\u001b[0m\u001b[1;33m\u001b[0m\u001b[1;33m\u001b[0m\u001b[0m\n",
      "\u001b[1;31mNoSuchElementException\u001b[0m: Message: no such element: Unable to locate element: {\"method\":\"css selector\",\"selector\":\"[id=\"e1-13\"]\"}\n  (Session info: chrome=81.0.4044.129)\n"
     ]
    }
   ],
   "source": [
    "for buttons in driver.find_elements_by_class_name('fake-menu-button__button'):\n",
    "    if(buttons.get_attribute('aria-controls') == 's0-13-11-5-1[0]-60-1-content'):\n",
    "        buttons.click()\n",
    "        driver.find_element_by_class_name('srp-view-options__customize').click()\n",
    "        driver.find_element_by_id('e1-13').click()\n",
    "        driver.find_element_by_id('e1-3').click()\n",
    "        time.sleep(2)\n",
    "        break"
   ]
  },
  {
   "cell_type": "code",
   "execution_count": 31,
   "metadata": {},
   "outputs": [
    {
     "ename": "NoSuchElementException",
     "evalue": "Message: no such element: Unable to locate element: {\"method\":\"css selector\",\"selector\":\"[id=\"e1-13\"]\"}\n  (Session info: chrome=81.0.4044.129)\n",
     "output_type": "error",
     "traceback": [
      "\u001b[1;31m---------------------------------------------------------------------------\u001b[0m",
      "\u001b[1;31mNoSuchElementException\u001b[0m                    Traceback (most recent call last)",
      "\u001b[1;32m<ipython-input-31-7c5b35116066>\u001b[0m in \u001b[0;36m<module>\u001b[1;34m\u001b[0m\n\u001b[1;32m----> 1\u001b[1;33m \u001b[0mprint\u001b[0m\u001b[1;33m(\u001b[0m\u001b[0mdriver\u001b[0m\u001b[1;33m.\u001b[0m\u001b[0mfind_element_by_id\u001b[0m\u001b[1;33m(\u001b[0m\u001b[1;34m'e1-13'\u001b[0m\u001b[1;33m)\u001b[0m\u001b[1;33m)\u001b[0m\u001b[1;33m\u001b[0m\u001b[1;33m\u001b[0m\u001b[0m\n\u001b[0m",
      "\u001b[1;32mc:\\users\\chris\\appdata\\local\\programs\\python\\python38-32\\lib\\site-packages\\selenium\\webdriver\\remote\\webdriver.py\u001b[0m in \u001b[0;36mfind_element_by_id\u001b[1;34m(self, id_)\u001b[0m\n\u001b[0;32m    358\u001b[0m             \u001b[0melement\u001b[0m \u001b[1;33m=\u001b[0m \u001b[0mdriver\u001b[0m\u001b[1;33m.\u001b[0m\u001b[0mfind_element_by_id\u001b[0m\u001b[1;33m(\u001b[0m\u001b[1;34m'foo'\u001b[0m\u001b[1;33m)\u001b[0m\u001b[1;33m\u001b[0m\u001b[1;33m\u001b[0m\u001b[0m\n\u001b[0;32m    359\u001b[0m         \"\"\"\n\u001b[1;32m--> 360\u001b[1;33m         \u001b[1;32mreturn\u001b[0m \u001b[0mself\u001b[0m\u001b[1;33m.\u001b[0m\u001b[0mfind_element\u001b[0m\u001b[1;33m(\u001b[0m\u001b[0mby\u001b[0m\u001b[1;33m=\u001b[0m\u001b[0mBy\u001b[0m\u001b[1;33m.\u001b[0m\u001b[0mID\u001b[0m\u001b[1;33m,\u001b[0m \u001b[0mvalue\u001b[0m\u001b[1;33m=\u001b[0m\u001b[0mid_\u001b[0m\u001b[1;33m)\u001b[0m\u001b[1;33m\u001b[0m\u001b[1;33m\u001b[0m\u001b[0m\n\u001b[0m\u001b[0;32m    361\u001b[0m \u001b[1;33m\u001b[0m\u001b[0m\n\u001b[0;32m    362\u001b[0m     \u001b[1;32mdef\u001b[0m \u001b[0mfind_elements_by_id\u001b[0m\u001b[1;33m(\u001b[0m\u001b[0mself\u001b[0m\u001b[1;33m,\u001b[0m \u001b[0mid_\u001b[0m\u001b[1;33m)\u001b[0m\u001b[1;33m:\u001b[0m\u001b[1;33m\u001b[0m\u001b[1;33m\u001b[0m\u001b[0m\n",
      "\u001b[1;32mc:\\users\\chris\\appdata\\local\\programs\\python\\python38-32\\lib\\site-packages\\selenium\\webdriver\\remote\\webdriver.py\u001b[0m in \u001b[0;36mfind_element\u001b[1;34m(self, by, value)\u001b[0m\n\u001b[0;32m    974\u001b[0m                 \u001b[0mby\u001b[0m \u001b[1;33m=\u001b[0m \u001b[0mBy\u001b[0m\u001b[1;33m.\u001b[0m\u001b[0mCSS_SELECTOR\u001b[0m\u001b[1;33m\u001b[0m\u001b[1;33m\u001b[0m\u001b[0m\n\u001b[0;32m    975\u001b[0m                 \u001b[0mvalue\u001b[0m \u001b[1;33m=\u001b[0m \u001b[1;34m'[name=\"%s\"]'\u001b[0m \u001b[1;33m%\u001b[0m \u001b[0mvalue\u001b[0m\u001b[1;33m\u001b[0m\u001b[1;33m\u001b[0m\u001b[0m\n\u001b[1;32m--> 976\u001b[1;33m         return self.execute(Command.FIND_ELEMENT, {\n\u001b[0m\u001b[0;32m    977\u001b[0m             \u001b[1;34m'using'\u001b[0m\u001b[1;33m:\u001b[0m \u001b[0mby\u001b[0m\u001b[1;33m,\u001b[0m\u001b[1;33m\u001b[0m\u001b[1;33m\u001b[0m\u001b[0m\n\u001b[0;32m    978\u001b[0m             'value': value})['value']\n",
      "\u001b[1;32mc:\\users\\chris\\appdata\\local\\programs\\python\\python38-32\\lib\\site-packages\\selenium\\webdriver\\remote\\webdriver.py\u001b[0m in \u001b[0;36mexecute\u001b[1;34m(self, driver_command, params)\u001b[0m\n\u001b[0;32m    319\u001b[0m         \u001b[0mresponse\u001b[0m \u001b[1;33m=\u001b[0m \u001b[0mself\u001b[0m\u001b[1;33m.\u001b[0m\u001b[0mcommand_executor\u001b[0m\u001b[1;33m.\u001b[0m\u001b[0mexecute\u001b[0m\u001b[1;33m(\u001b[0m\u001b[0mdriver_command\u001b[0m\u001b[1;33m,\u001b[0m \u001b[0mparams\u001b[0m\u001b[1;33m)\u001b[0m\u001b[1;33m\u001b[0m\u001b[1;33m\u001b[0m\u001b[0m\n\u001b[0;32m    320\u001b[0m         \u001b[1;32mif\u001b[0m \u001b[0mresponse\u001b[0m\u001b[1;33m:\u001b[0m\u001b[1;33m\u001b[0m\u001b[1;33m\u001b[0m\u001b[0m\n\u001b[1;32m--> 321\u001b[1;33m             \u001b[0mself\u001b[0m\u001b[1;33m.\u001b[0m\u001b[0merror_handler\u001b[0m\u001b[1;33m.\u001b[0m\u001b[0mcheck_response\u001b[0m\u001b[1;33m(\u001b[0m\u001b[0mresponse\u001b[0m\u001b[1;33m)\u001b[0m\u001b[1;33m\u001b[0m\u001b[1;33m\u001b[0m\u001b[0m\n\u001b[0m\u001b[0;32m    322\u001b[0m             response['value'] = self._unwrap_value(\n\u001b[0;32m    323\u001b[0m                 response.get('value', None))\n",
      "\u001b[1;32mc:\\users\\chris\\appdata\\local\\programs\\python\\python38-32\\lib\\site-packages\\selenium\\webdriver\\remote\\errorhandler.py\u001b[0m in \u001b[0;36mcheck_response\u001b[1;34m(self, response)\u001b[0m\n\u001b[0;32m    240\u001b[0m                 \u001b[0malert_text\u001b[0m \u001b[1;33m=\u001b[0m \u001b[0mvalue\u001b[0m\u001b[1;33m[\u001b[0m\u001b[1;34m'alert'\u001b[0m\u001b[1;33m]\u001b[0m\u001b[1;33m.\u001b[0m\u001b[0mget\u001b[0m\u001b[1;33m(\u001b[0m\u001b[1;34m'text'\u001b[0m\u001b[1;33m)\u001b[0m\u001b[1;33m\u001b[0m\u001b[1;33m\u001b[0m\u001b[0m\n\u001b[0;32m    241\u001b[0m             \u001b[1;32mraise\u001b[0m \u001b[0mexception_class\u001b[0m\u001b[1;33m(\u001b[0m\u001b[0mmessage\u001b[0m\u001b[1;33m,\u001b[0m \u001b[0mscreen\u001b[0m\u001b[1;33m,\u001b[0m \u001b[0mstacktrace\u001b[0m\u001b[1;33m,\u001b[0m \u001b[0malert_text\u001b[0m\u001b[1;33m)\u001b[0m\u001b[1;33m\u001b[0m\u001b[1;33m\u001b[0m\u001b[0m\n\u001b[1;32m--> 242\u001b[1;33m         \u001b[1;32mraise\u001b[0m \u001b[0mexception_class\u001b[0m\u001b[1;33m(\u001b[0m\u001b[0mmessage\u001b[0m\u001b[1;33m,\u001b[0m \u001b[0mscreen\u001b[0m\u001b[1;33m,\u001b[0m \u001b[0mstacktrace\u001b[0m\u001b[1;33m)\u001b[0m\u001b[1;33m\u001b[0m\u001b[1;33m\u001b[0m\u001b[0m\n\u001b[0m\u001b[0;32m    243\u001b[0m \u001b[1;33m\u001b[0m\u001b[0m\n\u001b[0;32m    244\u001b[0m     \u001b[1;32mdef\u001b[0m \u001b[0m_value_or_default\u001b[0m\u001b[1;33m(\u001b[0m\u001b[0mself\u001b[0m\u001b[1;33m,\u001b[0m \u001b[0mobj\u001b[0m\u001b[1;33m,\u001b[0m \u001b[0mkey\u001b[0m\u001b[1;33m,\u001b[0m \u001b[0mdefault\u001b[0m\u001b[1;33m)\u001b[0m\u001b[1;33m:\u001b[0m\u001b[1;33m\u001b[0m\u001b[1;33m\u001b[0m\u001b[0m\n",
      "\u001b[1;31mNoSuchElementException\u001b[0m: Message: no such element: Unable to locate element: {\"method\":\"css selector\",\"selector\":\"[id=\"e1-13\"]\"}\n  (Session info: chrome=81.0.4044.129)\n"
     ]
    }
   ],
   "source": []
  },
  {
   "cell_type": "code",
   "execution_count": 25,
   "metadata": {},
   "outputs": [],
   "source": [
    "driver.close()"
   ]
  },
  {
   "cell_type": "code",
   "execution_count": 12,
   "metadata": {},
   "outputs": [
    {
     "name": "stdout",
     "output_type": "stream",
     "text": [
      "£23.92\n"
     ]
    }
   ],
   "source": [
    "driver.get(base_url + tag + str(ids[0]))\n",
    "# price\n",
    "price = driver.find_element_by_class_name('display-price').text\n",
    "print(price)"
   ]
  },
  {
   "cell_type": "code",
   "execution_count": 13,
   "metadata": {},
   "outputs": [
    {
     "name": "stdout",
     "output_type": "stream",
     "text": [
      "König Motorised Cassette Adaptor VHS-C To VHS Adaptor\n"
     ]
    }
   ],
   "source": [
    "# title\n",
    "title = driver.find_element_by_class_name('product-title').text\n",
    "print(title)"
   ]
  },
  {
   "cell_type": "code",
   "execution_count": 14,
   "metadata": {},
   "outputs": [
    {
     "name": "stdout",
     "output_type": "stream",
     "text": [
      "König Motorised Cassette Adaptor VHS C To VHS Adaptor\n"
     ]
    }
   ],
   "source": [
    "# clean the title\n",
    "new_title = re.sub(r'[^\\w]', ' ', title)\n",
    "print(new_title)"
   ]
  },
  {
   "cell_type": "code",
   "execution_count": 15,
   "metadata": {},
   "outputs": [],
   "source": [
    "# input the new_title into the search bar\n",
    "search = driver.find_element_by_id('gh-ac')\n",
    "search.send_keys(new_title)"
   ]
  },
  {
   "cell_type": "code",
   "execution_count": 16,
   "metadata": {},
   "outputs": [],
   "source": [
    "# click the search button\n",
    "search_button = driver.find_element_by_class_name('gh-sch-btn')\n",
    "search_button.click()\n",
    "driver.get(driver.current_url + '&_stpos=OL98JR')"
   ]
  },
  {
   "cell_type": "code",
   "execution_count": 24,
   "metadata": {},
   "outputs": [],
   "source": [
    "# I have to update delivery location\n",
    "# driver.find_element_by_class_name('x-flyout__button').click()\n",
    "# select = Select(driver.find_element_by_class_name('listbox__control'))\n",
    "# select.select_by_value('3')\n",
    "# zip_code = driver.find_element_by_class_name('s0-13-11-5-1[0]-66-zipCode')\n",
    "# zip_code.send_keys('OL98JR')\n",
    "# for i in driver.find_elements_by_tag_name('input'): # find the go button and click it\n",
    "#     if(i.get_attribute('value') == 'Go'):\n",
    "#         i.click()"
   ]
  },
  {
   "cell_type": "code",
   "execution_count": 25,
   "metadata": {},
   "outputs": [
    {
     "name": "stdout",
     "output_type": "stream",
     "text": [
      "https://www.ebay.co.uk/itm/Konig-Motorised-Cassette-Adaptor-VHS-C-To-VHS-Adaptor/333144224904?epid=1607618946&hash=item4d90f17488:g:QnoAAOSw9iRcryhi\n",
      "333144224904\n",
      "No\n"
     ]
    }
   ],
   "source": [
    "# get the first item review to be able to verify if \n",
    "take_id = r'/\\w+\\?'\n",
    "first_url = driver.find_element_by_class_name('s-item__image').find_element_by_tag_name('a').get_attribute('href')\n",
    "print(first_url)\n",
    "first_id = re.findall(take_id, first_url)[0][1:-1]\n",
    "print(first_id)\n",
    "\n",
    "if(first_id == ids[0]):\n",
    "    print('Yes')\n",
    "else:\n",
    "    print('No')"
   ]
  },
  {
   "cell_type": "code",
   "execution_count": 26,
   "metadata": {},
   "outputs": [
    {
     "name": "stdout",
     "output_type": "stream",
     "text": [
      "£24.81\n"
     ]
    }
   ],
   "source": [
    "# get the price of the second best\n",
    "second_price = driver.find_elements_by_class_name('s-item__price')[1].text\n",
    "print(second_price)"
   ]
  },
  {
   "cell_type": "code",
   "execution_count": 27,
   "metadata": {},
   "outputs": [],
   "source": [
    "# sort by Lowest price + P&P\n",
    "driver.find_element_by_class_name('srp-controls__sort').click()\n",
    "for i in driver.find_elements_by_class_name('fake-menu-button__item'):\n",
    "    if(i.text == 'Lowest price + P&P'):\n",
    "        i.click()\n",
    "        break"
   ]
  },
  {
   "cell_type": "code",
   "execution_count": 28,
   "metadata": {},
   "outputs": [
    {
     "name": "stdout",
     "output_type": "stream",
     "text": [
      "https://www.ebay.co.uk/itm/Konig-Motorised-Cassette-Adaptor-Vhs-C-To-Vhs-Adaptor-Fast-Free-Delivery/202453824080?hash=item2f23303250:g:OEcAAOSwpmhbsKiv\n",
      "202453824080 352884175692\n",
      "No\n"
     ]
    }
   ],
   "source": [
    "# get the first item review to be able to verify if \n",
    "take_id = r'/\\w+\\?'\n",
    "first_url = driver.find_element_by_class_name('s-item__image').find_element_by_tag_name('a').get_attribute('href')\n",
    "print(first_url)\n",
    "first_id = re.findall(take_id, first_url)[0][1:-1]\n",
    "\n",
    "print(first_id, ids[0])\n",
    "if(first_id == ids[0]):\n",
    "    print('Yes')\n",
    "else:\n",
    "    print('No')"
   ]
  },
  {
   "cell_type": "code",
   "execution_count": 29,
   "metadata": {},
   "outputs": [
    {
     "name": "stdout",
     "output_type": "stream",
     "text": [
      "£22.53\n"
     ]
    }
   ],
   "source": [
    "price = driver.find_element_by_class_name('s-item__price').text\n",
    "print(price)"
   ]
  },
  {
   "cell_type": "code",
   "execution_count": 30,
   "metadata": {},
   "outputs": [],
   "source": [
    "driver.get(first_url)"
   ]
  },
  {
   "cell_type": "code",
   "execution_count": 31,
   "metadata": {},
   "outputs": [
    {
     "name": "stdout",
     "output_type": "stream",
     "text": [
      "rokisse0\n"
     ]
    }
   ],
   "source": [
    "name = driver.find_element_by_class_name('mbg-nw').text\n",
    "print(name)"
   ]
  },
  {
   "cell_type": "code",
   "execution_count": 121,
   "metadata": {},
   "outputs": [],
   "source": [
    "driver.close()"
   ]
  },
  {
   "cell_type": "code",
   "execution_count": 41,
   "metadata": {},
   "outputs": [],
   "source": [
    "os.chdir('..')"
   ]
  },
  {
   "cell_type": "code",
   "execution_count": 60,
   "metadata": {},
   "outputs": [],
   "source": [
    "driver.back()"
   ]
  },
  {
   "cell_type": "code",
   "execution_count": 79,
   "metadata": {},
   "outputs": [
    {
     "ename": "IndexError",
     "evalue": "list index out of range",
     "output_type": "error",
     "traceback": [
      "\u001b[1;31m---------------------------------------------------------------------------\u001b[0m",
      "\u001b[1;31mIndexError\u001b[0m                                Traceback (most recent call last)",
      "\u001b[1;32m<ipython-input-79-2c36906d53a3>\u001b[0m in \u001b[0;36m<module>\u001b[1;34m\u001b[0m\n\u001b[1;32m----> 1\u001b[1;33m \u001b[0mdriver\u001b[0m\u001b[1;33m.\u001b[0m\u001b[0mfind_elements_by_class_name\u001b[0m\u001b[1;33m(\u001b[0m\u001b[1;34m's-item__link'\u001b[0m\u001b[1;33m)\u001b[0m\u001b[1;33m[\u001b[0m\u001b[1;36m0\u001b[0m\u001b[1;33m]\u001b[0m\u001b[1;33m.\u001b[0m\u001b[0mclick\u001b[0m\u001b[1;33m(\u001b[0m\u001b[1;33m)\u001b[0m \u001b[1;31m# get the url of the item\u001b[0m\u001b[1;33m\u001b[0m\u001b[1;33m\u001b[0m\u001b[0m\n\u001b[0m\u001b[0;32m      2\u001b[0m \u001b[0mprint\u001b[0m\u001b[1;33m(\u001b[0m\u001b[0mdriver\u001b[0m\u001b[1;33m.\u001b[0m\u001b[0mcurrent_url\u001b[0m\u001b[1;33m)\u001b[0m\u001b[1;33m\u001b[0m\u001b[1;33m\u001b[0m\u001b[0m\n\u001b[0;32m      3\u001b[0m \u001b[1;31m# i['best_id'] = re.findall(filter_id, first_url)[0][1:-1] # extract the id from the url\u001b[0m\u001b[1;33m\u001b[0m\u001b[1;33m\u001b[0m\u001b[1;33m\u001b[0m\u001b[0m\n",
      "\u001b[1;31mIndexError\u001b[0m: list index out of range"
     ]
    }
   ],
   "source": [
    "driver.find_elements_by_class_name('s-item__link')[0].click() # get the url of the item\n",
    "print(driver.current_url)\n",
    "# i['best_id'] = re.findall(filter_id, first_url)[0][1:-1] # extract the id from the url"
   ]
  },
  {
   "cell_type": "code",
   "execution_count": 116,
   "metadata": {},
   "outputs": [],
   "source": [
    "driver.execute_script(\"window.localStorage.clear();\")"
   ]
  },
  {
   "cell_type": "code",
   "execution_count": 129,
   "metadata": {},
   "outputs": [
    {
     "name": "stdout",
     "output_type": "stream",
     "text": [
      "STORITE External 2.0 USB 2.5\" Slim Portable Hard Disk Drive HDD for Laptop PC\n"
     ]
    }
   ],
   "source": [
    "# driver.refresh()\n",
    "print(driver.find_element_by_class_name('s-item__link').text)"
   ]
  },
  {
   "cell_type": "code",
   "execution_count": 9,
   "metadata": {},
   "outputs": [],
   "source": [
    "driver.get('https://www.ebay.co.uk/sch/i.html?_from=R40&_trksid=m570.l1313&_nkw=Pinch+of+Nom+Book+Everyday+Light++100+Slimming+Recipes+All+Under+400+Calories&_sacat=0&LH_TitleDesc=0&_osacat=0&_odkw=Becoming+Hardcover+Book+Michelle+Obama')"
   ]
  },
  {
   "cell_type": "code",
   "execution_count": 10,
   "metadata": {},
   "outputs": [
    {
     "name": "stdout",
     "output_type": "stream",
     "text": [
      "1\n"
     ]
    }
   ],
   "source": [
    "print(driver.find_element_by_class_name('srp-controls__count-heading').find_elements_by_tag_name('span')[0].text)"
   ]
  },
  {
   "cell_type": "markdown",
   "metadata": {},
   "source": [
    "# Full Code"
   ]
  },
  {
   "cell_type": "code",
   "execution_count": 9,
   "metadata": {
    "scrolled": true
   },
   "outputs": [
    {
     "name": "stdout",
     "output_type": "stream",
     "text": [
      "352891590647\n",
      "{'price': '£8.79', 'item_id': 352891590647, 'title': 'Kids Growth Hight Chart, Baby Measuring Chart Cartoon Canvas Wall Hanging', 'best_id': '313055643085', 'equal_best_match': 'No', 'price_match': '£11.61', 'sort': 'No', 'sort_id': '313055643085', 'seller_id': 'simplyshopping-92', 'price_sort': '£10.89'}\n",
      "352892852444\n",
      "{'price': '£16.05', 'item_id': 352892852444, 'title': 'Joint Dog Supplement CURCUPET-K9 Easily Absorbed Turmeric Formulation 56 Tablets', 'best_id': '313055643085', 'equal_best_match': 'No', 'price_match': '£18.49', 'sort': 'No', 'sort_id': '313055643085', 'seller_id': 'simplyshopping-92', 'price_sort': '£10.89'}\n",
      "352898683627\n",
      "Item 352898683627 is no longer being sold\n",
      "{'price': None, 'item_id': 352898683627, 'title': None, 'best_id': None, 'equal_best_match': None, 'price_match': None, 'sort': None, 'sort_id': None, 'seller_id': None, 'price_sort': None}\n",
      "172303319739\n",
      "Item 172303319739 is no longer being sold\n",
      "{'price': None, 'item_id': 172303319739, 'title': None, 'best_id': None, 'equal_best_match': None, 'price_match': None, 'sort': None, 'sort_id': None, 'seller_id': None, 'price_sort': None}\n",
      "173092913247\n",
      "Item 173092913247 is no longer being sold\n",
      "{'price': None, 'item_id': 173092913247, 'title': '3 Drawer Storage Trolley Portable Wheels Home Office Beauty Salon Hair Dresser', 'best_id': '313055643085', 'equal_best_match': 'No', 'price_match': '£34.99 to £69.99', 'sort': 'No', 'sort_id': '313055643085', 'seller_id': 'simplyshopping-92', 'price_sort': '£10.89'}\n",
      "173184905759\n"
     ]
    },
    {
     "ename": "KeyboardInterrupt",
     "evalue": "",
     "output_type": "error",
     "traceback": [
      "\u001b[1;31m---------------------------------------------------------------------------\u001b[0m",
      "\u001b[1;31mKeyboardInterrupt\u001b[0m                         Traceback (most recent call last)",
      "\u001b[1;32m<ipython-input-9-e02652ddf32b>\u001b[0m in \u001b[0;36m<module>\u001b[1;34m\u001b[0m\n\u001b[0;32m     88\u001b[0m \u001b[1;33m\u001b[0m\u001b[0m\n\u001b[0;32m     89\u001b[0m         \u001b[0mdriver\u001b[0m\u001b[1;33m.\u001b[0m\u001b[0mget\u001b[0m\u001b[1;33m(\u001b[0m\u001b[0mdriver\u001b[0m\u001b[1;33m.\u001b[0m\u001b[0mcurrent_url\u001b[0m \u001b[1;33m+\u001b[0m \u001b[1;34m'&_stpos=OL98JR'\u001b[0m\u001b[1;33m)\u001b[0m\u001b[1;33m\u001b[0m\u001b[1;33m\u001b[0m\u001b[0m\n\u001b[1;32m---> 90\u001b[1;33m         \u001b[0mtime\u001b[0m\u001b[1;33m.\u001b[0m\u001b[0msleep\u001b[0m\u001b[1;33m(\u001b[0m\u001b[1;36m1\u001b[0m\u001b[1;33m)\u001b[0m\u001b[1;33m\u001b[0m\u001b[1;33m\u001b[0m\u001b[0m\n\u001b[0m\u001b[0;32m     91\u001b[0m \u001b[1;33m\u001b[0m\u001b[0m\n\u001b[0;32m     92\u001b[0m         \u001b[0mfilter_id\u001b[0m \u001b[1;33m=\u001b[0m \u001b[1;34mr'/\\w+\\?'\u001b[0m\u001b[1;33m\u001b[0m\u001b[1;33m\u001b[0m\u001b[0m\n",
      "\u001b[1;31mKeyboardInterrupt\u001b[0m: "
     ]
    }
   ],
   "source": [
    "# importing all the required libraries\n",
    "from selenium import webdriver\n",
    "from selenium.webdriver.common.by import By\n",
    "from selenium.webdriver.chrome.options import Options\n",
    "from selenium.webdriver.support.ui import WebDriverWait\n",
    "from selenium.webdriver.support.ui import Select\n",
    "# from selenium.webdriver.support import expected_conditions as EC\n",
    "\n",
    "import os\n",
    "import pandas as pd\n",
    "import xlsxwriter\n",
    "import time\n",
    "import re\n",
    "\n",
    "# webdriver options\n",
    "chromeOptions = Options()\n",
    "chromeOptions.add_argument('--kiosk') # sets the headless browser into full screen mode\n",
    "chromeOptions.add_argument('blink-settings=imagesEnabled=false') # set loading images to be false (for faster loading)\n",
    "chromeOptions.page_load_strategy = 'normal'\n",
    "\n",
    "base_url = 'https://www.ebay.co.uk/'\n",
    "tag = 'itm/' # % is the item id\n",
    "\n",
    "filename = 'data.xlsx' # asks for user input file\n",
    "data = []\n",
    "\n",
    "workbook = xlsxwriter.Workbook(filename.split('.')[0] + '-output.xlsx')\n",
    "worksheet = workbook.add_worksheet()\n",
    "worksheet.set_column('A:J', 20)\n",
    "worksheet.write(0, 0, 'Item ID')\n",
    "worksheet.write(0, 1, 'Title')\n",
    "worksheet.write(0, 2, 'Price')\n",
    "worksheet.write(0, 3, 'Best ID')\n",
    "worksheet.write(0, 4, 'Best ID Match')\n",
    "worksheet.write(0, 5, 'Second Best Price')\n",
    "worksheet.write(0, 6, 'Sort Lowest + P&P Match')\n",
    "worksheet.write(0, 7, 'Sort Lowest + P&P ID')\n",
    "worksheet.write(0, 8, 'Sort Lowest + P&P Price')\n",
    "worksheet.write(0, 9, 'Seller ID')\n",
    "row = 1\n",
    "\n",
    "os.chdir(\"./input\") # go to output folder \n",
    "\n",
    "df = pd.read_excel(filename)\n",
    "for i in df.iloc:\n",
    "    data.append({ # initiate all values to None except product id\n",
    "        'price': None,\n",
    "        'item_id': i['IDS'],\n",
    "        'title': None,\n",
    "        'best_id': None, \n",
    "        'equal_best_match': None,\n",
    "        'price_match': None,\n",
    "        'sort': None,\n",
    "        'sort_id': None,\n",
    "        'seller_id': None,\n",
    "        'price_sort': None,\n",
    "    })\n",
    "    \n",
    "os.chdir(\"..\") # go to 1 level directory below\n",
    "driver = webdriver.Chrome('./chromedriver/chromedriver', options=chromeOptions) # opens the headless browser\n",
    "\n",
    "for i in data[3:10]:\n",
    "    print(i['item_id'])\n",
    "    driver.get(base_url + tag + str(i['item_id']))\n",
    "    try:\n",
    "        i['price'] = driver.find_element_by_class_name('display-price').text\n",
    "    except:\n",
    "        try:\n",
    "            i['price'] = driver.find_element_by_id('prcIsum').text\n",
    "        except:\n",
    "            print('Item', i['item_id'], 'is no longer being sold')\n",
    "    try:\n",
    "        i['title'] = driver.find_element_by_class_name('product-title').text\n",
    "    except:\n",
    "        try:\n",
    "            i['title'] = driver.find_element_by_id('itemTitle').text\n",
    "        except:\n",
    "            pass\n",
    "    \n",
    "    if(i['price'] or i['title']):\n",
    "        new_title = re.sub(r'[^\\w]', ' ', i['title'])\n",
    "\n",
    "        search = driver.find_element_by_id('gh-ac')\n",
    "        search.send_keys(new_title)\n",
    "\n",
    "        search_button = driver.find_element_by_class_name('gh-sch-btn')\n",
    "        search_button.click()\n",
    "\n",
    "        driver.get(driver.current_url + '&_stpos=OL98JR')\n",
    "        time.sleep(1)\n",
    "\n",
    "        filter_id = r'/\\w+\\?'\n",
    "\n",
    "        first_url = driver.find_element_by_class_name('s-item__link').get_attribute('href') # get the url of the item\n",
    "        i['best_id'] = re.findall(filter_id, first_url)[0][1:-1] # extract the id from the url\n",
    "        if(i['best_id']  == i['item_id']):\n",
    "            i['equal_best_match'] = 'Yes'\n",
    "        else:\n",
    "            i['equal_best_match'] = 'No'\n",
    "\n",
    "        i['price_match'] = driver.find_elements_by_class_name('s-item__price')[1].text\n",
    "        driver.get(driver.current_url + '&_sop=15')\n",
    "        time.sleep(1)\n",
    "\n",
    "        first_url = driver.find_element_by_class_name('s-item__link').get_attribute('href') # get the url of the product\n",
    "        i['sort_id'] = str(re.findall(filter_id, first_url)[0][1:-1]) # extract the product id from the URL\n",
    "        price = driver.find_element_by_class_name('s-item__price').text\n",
    "\n",
    "        if(i['sort_id'] == i['item_id']):\n",
    "            i['sort'] = 'Yes'\n",
    "        else:\n",
    "            i['sort'] = 'No'\n",
    "\n",
    "        i['price_sort'] = driver.find_element_by_class_name('s-item__price').text\n",
    "\n",
    "        driver.get(first_url)\n",
    "        i['seller_id'] = driver.find_element_by_class_name('mbg-nw').text\n",
    "    \n",
    "    worksheet.write(row, 0, i['item_id'])\n",
    "    worksheet.write(row, 1, i['price'])\n",
    "    worksheet.write(row, 2, i['title'])\n",
    "    worksheet.write(row, 3, i['best_id'])\n",
    "    worksheet.write(row, 4, i['equal_best_match'])\n",
    "    worksheet.write(row, 5, i['price_match'])\n",
    "    worksheet.write(row, 6, i['sort'])\n",
    "    worksheet.write(row, 7, i['sort_id'])\n",
    "    worksheet.write(row, 8, i['price_sort'])\n",
    "    worksheet.write(row, 9, i['seller_id'])\n",
    "    row += 1\n",
    "    print(i)\n",
    "\n",
    "os.chdir('./output')\n",
    "workbook.close()\n",
    "os.chdir('..')"
   ]
  },
  {
   "cell_type": "code",
   "execution_count": 10,
   "metadata": {},
   "outputs": [],
   "source": [
    "driver.close()"
   ]
  },
  {
   "cell_type": "code",
   "execution_count": 25,
   "metadata": {},
   "outputs": [],
   "source": [
    "a = str(re.findall(filter_id, first_url)[0][1:-1])"
   ]
  },
  {
   "cell_type": "code",
   "execution_count": 35,
   "metadata": {},
   "outputs": [
    {
     "name": "stdout",
     "output_type": "stream",
     "text": [
      "[{'price': None, 'item_id': 352884175692, 'title': None, 'best_id': None, 'equal_best_match': None, 'price_match': None, 'sort': None, 'sort_id': None, 'seller_id': None, 'price_sort': None}, {'price': None, 'item_id': 352889890188, 'title': None, 'best_id': None, 'equal_best_match': None, 'price_match': None, 'sort': None, 'sort_id': None, 'seller_id': None, 'price_sort': None}, {'price': None, 'item_id': 352891526902, 'title': None, 'best_id': None, 'equal_best_match': None, 'price_match': None, 'sort': None, 'sort_id': None, 'seller_id': None, 'price_sort': None}]\n"
     ]
    }
   ],
   "source": [
    "# for i in data[:3]:\n",
    "#     filter_id = r'/\\w+\\?'\n",
    "    \n",
    "#     first_url = driver.find_element_by_class_name('s-item__image').find_element_by_tag_name('a').get_attribute('href') # get the url of the item\n",
    "#     i['best_id'] = re.findall(filter_id, first_url)[0][1:-1] # extract the id from the url\n",
    "print(data[3:10])"
   ]
  },
  {
   "cell_type": "code",
   "execution_count": null,
   "metadata": {},
   "outputs": [],
   "source": []
  }
 ],
 "metadata": {
  "kernelspec": {
   "display_name": "Python 3",
   "language": "python",
   "name": "python3"
  },
  "language_info": {
   "codemirror_mode": {
    "name": "ipython",
    "version": 3
   },
   "file_extension": ".py",
   "mimetype": "text/x-python",
   "name": "python",
   "nbconvert_exporter": "python",
   "pygments_lexer": "ipython3",
   "version": "3.8.2"
  }
 },
 "nbformat": 4,
 "nbformat_minor": 4
}
